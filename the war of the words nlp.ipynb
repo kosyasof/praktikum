{
 "cells": [
  {
   "cell_type": "code",
   "execution_count": 1,
   "id": "d0995ba2",
   "metadata": {},
   "outputs": [],
   "source": [
    "with open('Уэллс.txt') as file:\n",
    "    data = file.readlines()"
   ]
  },
  {
   "cell_type": "code",
   "execution_count": 27,
   "id": "c9077915",
   "metadata": {},
   "outputs": [],
   "source": [
    "text = ' '.join(list(map(lambda x: x.replace('\\n', '').replace('\\xa0', ''), data))).strip()"
   ]
  },
  {
   "cell_type": "code",
   "execution_count": 22,
   "id": "8ad8848c",
   "metadata": {},
   "outputs": [],
   "source": [
    "import re\n",
    "\n",
    "def remove_pun(text):\n",
    "    text = re.sub(r'[^a-zA-Zа-яЁА-ЯЁ ]', '', text)\n",
    "    text = text.lower()\n",
    "    return text\n",
    "\n",
    "processed_text = remove_pun(text)"
   ]
  },
  {
   "cell_type": "code",
   "execution_count": 28,
   "id": "9b960696",
   "metadata": {},
   "outputs": [],
   "source": [
    "from nltk.probability import FreqDist\n",
    "spamdist = FreqDist(processed_text.split())\n",
    "top_words = spamdist.most_common(20)"
   ]
  },
  {
   "cell_type": "code",
   "execution_count": 38,
   "id": "fd492776",
   "metadata": {},
   "outputs": [],
   "source": [
    "freqs = list(map(lambda x: x[1], top_words))\n",
    "words = list(map(lambda x: x[0], top_words))"
   ]
  },
  {
   "cell_type": "code",
   "execution_count": 47,
   "id": "0cee0983",
   "metadata": {},
   "outputs": [
    {
     "data": {
      "image/png": "[encoded data removed]",
      "text/plain": [
       "<Figure size 720x504 with 1 Axes>"
      ]
     },
     "metadata": {
      "needs_background": "light"
     },
     "output_type": "display_data"
    }
   ],
   "source": [
    "import matplotlib.pyplot as plt\n",
    "fig, ax = plt.subplots(figsize=(10,7))\n",
    "plt.bar(words, freqs);"
   ]
  },
  {
   "cell_type": "code",
   "execution_count": 55,
   "id": "e457b91b",
   "metadata": {},
   "outputs": [
    {
     "data": {
      "text/html": [
       "<div>\n",
       "<style scoped>\n",
       "    .dataframe tbody tr th:only-of-type {\n",
       "        vertical-align: middle;\n",
       "    }\n",
       "\n",
       "    .dataframe tbody tr th {\n",
       "        vertical-align: top;\n",
       "    }\n",
       "\n",
       "    .dataframe thead th {\n",
       "        text-align: right;\n",
       "    }\n",
       "</style>\n",
       "<table border=\"1\" class=\"dataframe\">\n",
       "  <thead>\n",
       "    <tr style=\"text-align: right;\">\n",
       "      <th></th>\n",
       "      <th>количество строк</th>\n",
       "      <th>количество слов</th>\n",
       "      <th>количество символов с пробелами</th>\n",
       "      <th>количество символов без пробелов</th>\n",
       "    </tr>\n",
       "  </thead>\n",
       "  <tbody>\n",
       "    <tr>\n",
       "      <th>0</th>\n",
       "      <td>2128</td>\n",
       "      <td>44461</td>\n",
       "      <td>297706</td>\n",
       "      <td>251863</td>\n",
       "    </tr>\n",
       "  </tbody>\n",
       "</table>\n",
       "</div>"
      ],
      "text/plain": [
       "   количество строк  количество слов  количество символов с пробелами  \\\n",
       "0              2128            44461                           297706   \n",
       "\n",
       "   количество символов без пробелов  \n",
       "0                            251863  "
      ]
     },
     "execution_count": 55,
     "metadata": {},
     "output_type": "execute_result"
    }
   ],
   "source": [
    "import pandas as pd\n",
    "pd.DataFrame(\n",
    "    {\n",
    "        'количество строк': [len(data)],\n",
    "        'количество слов': [len(processed_text.split())],\n",
    "        'количество символов с пробелами': [len(text)],\n",
    "        'количество символов без пробелов': [len(text.replace(' ', ''))]\n",
    "    }\n",
    ")"
   ]
  }
 ],
 "metadata": {
  "kernelspec": {
   "display_name": "Python 3 (ipykernel)",
   "language": "python",
   "name": "python3"
  },
  "language_info": {
   "codemirror_mode": {
    "name": "ipython",
    "version": 3
   },
   "file_extension": ".py",
   "mimetype": "text/x-python",
   "name": "python",
   "nbconvert_exporter": "python",
   "pygments_lexer": "ipython3",
   "version": "3.9.12"
  }
 },
 "nbformat": 4,
 "nbformat_minor": 5
}
